{
 "cells": [
  {
   "attachments": {},
   "cell_type": "markdown",
   "id": "b3a39ef8-738f-4324-9ed6-9651dae8b230",
   "metadata": {},
   "source": [
    "# Lidando com Valores Ausentes na biblioteca pandas\n",
    "\n",
    "**Valores Ausentes** ocorrem quando não foram informados valores para certas variáveis em um dataset. É comum ocorrer quando utilizamos dados reais.\n",
    "\n",
    "O que é um valor ausente para o Pandas?\n",
    "* None (Nativo do Python)\n",
    "* NaN (Not a Number): constante da biblioteca Numpy\n",
    "\n",
    "Neste notebook vamos aprender algumas maneiras de lidar com valores ausentes.\n",
    "\n",
    "Link para a documentação do Pandas sobre missing data: https://pandas.pydata.org/docs/user_guide/missing_data.html"
   ]
  },
  {
   "cell_type": "markdown",
   "id": "e6aa9c95-cd95-4763-9405-e6d15553b726",
   "metadata": {},
   "source": [
    "## Instalação e Importação da biblioteca pandas"
   ]
  },
  {
   "cell_type": "markdown",
   "id": "56edc258-a9b6-459f-8d1c-893b645ff86d",
   "metadata": {},
   "source": [
    "Antes de rodar este notebook, garanta que a biblioteca abaixo estejam instaladas em seu ambiente:"
   ]
  },
  {
   "cell_type": "code",
   "execution_count": null,
   "id": "ea3c90a0-18d6-4af5-ae0d-f1878e3f3fb1",
   "metadata": {},
   "outputs": [],
   "source": [
    "import pandas as pd"
   ]
  },
  {
   "cell_type": "markdown",
   "id": "76298f34-dd89-488e-ac9c-0cb4bf733e80",
   "metadata": {},
   "source": [
    "## Criação do dataframe e análise inicial dos dados"
   ]
  },
  {
   "cell_type": "markdown",
   "id": "5e8858f3-1441-4337-b315-a76191e9842e",
   "metadata": {},
   "source": [
    "Nosso dataset de testes será o `titanic.csv`, um dataset bastante famoso em ciência de dados. Esse dataset contém as seguintes informações sobre os passageiros do Titanic:\n",
    "\n",
    "* `PassengerId` = ID do passageiro do navio (chave primária).\n",
    "* `Pclass\t` = Tipo de classe de passagem (valor numérico entre 1 e 3), sendo 1 a melhor classe e 3 a pior classe.\n",
    "* `Name` = Nome do passageiro\n",
    "* `Sex` = Gênero do passageiro, com valores male/female.\n",
    "* `Age` = Idade do passageiro na data da ocorrência do naufrágio (em anos).\n",
    "* `SibSp` = Número de irmãos / cônjuges a bordo.\n",
    "* `Parch` = Número de pais / filhos a bordo.\n",
    "* `Ticket` = Número do ticket.\n",
    "* `Fare` = Valor da passagem.\n",
    "* `Cabin` = Código de identificação da Cabine.\n",
    "* `Embarked` = Porto ondem o passageiro embarcou no navio. (C = Cherbourg, Q = Queenstown, S = Southampton)\n",
    "* `survived` = Se sobreviveu ao naufrágio estará como 1 e caso esteja com 0 (zero) não sobreviveu.\n"
   ]
  },
  {
   "cell_type": "code",
   "execution_count": null,
   "id": "c380dde5-e624-48d8-8767-77850c8f5502",
   "metadata": {},
   "outputs": [],
   "source": [
    "# Carrega o dataset\n",
    "dados = pd.read_csv('titanic.csv')\n",
    "\n",
    "# Exibe as primeiras linhas do dataset\n",
    "dados.head()"
   ]
  },
  {
   "cell_type": "code",
   "execution_count": null,
   "id": "3bc9e8aa-9f7e-4345-b7d1-ca16554fd710",
   "metadata": {},
   "outputs": [],
   "source": [
    "# Outra forma de observar os dados do dataset é com a função sample\n",
    "dados.sample(5)"
   ]
  },
  {
   "cell_type": "markdown",
   "id": "b6681fab-3261-427e-a792-01331ed31937",
   "metadata": {},
   "source": [
    "Podemos obter algumas estatísticas sobre os dados usando a função `describe`"
   ]
  },
  {
   "cell_type": "code",
   "execution_count": null,
   "id": "316866d3-685a-4daf-96a9-5b3908350b0a",
   "metadata": {},
   "outputs": [],
   "source": [
    "dados.describe()"
   ]
  },
  {
   "cell_type": "markdown",
   "id": "4f128beb-86d9-4317-bbf1-d94262b7182a",
   "metadata": {},
   "source": [
    "**EXERCÍCIO**\n",
    "Com a execução da célula anterior, podemos notar que o atributo `Age` possui um valor máximo de 80. Esse valor pode ser considerado um outlier? Como você poderia justificar sua afirmação (com base no dataset e com base em informações externas)?"
   ]
  },
  {
   "cell_type": "code",
   "execution_count": null,
   "id": "475db622",
   "metadata": {},
   "outputs": [],
   "source": [
    "dados.Age.describe()"
   ]
  },
  {
   "cell_type": "markdown",
   "id": "d6679510",
   "metadata": {},
   "source": [
    "## Resposta:\n",
    "- Expectativa de vida na Inglaterra na época era de 51 anos;\n",
    "- Como a maior idade é 80 e a média de idades é 29.7, podemos concluir que 80 pode ser considerado um Outlier."
   ]
  },
  {
   "cell_type": "markdown",
   "id": "dbde2eff-aa95-4426-917e-aee49f7cbbf1",
   "metadata": {},
   "source": [
    "## Identificando valores ausentes"
   ]
  },
  {
   "cell_type": "markdown",
   "id": "b2457f90-077e-4555-bed1-0b59ca3f7840",
   "metadata": {},
   "source": [
    "A função `isnull()` retorna verdadeiro se um valor em uma posição do dataframe é vazio"
   ]
  },
  {
   "cell_type": "code",
   "execution_count": null,
   "id": "c9169e4f-e619-46e1-8a18-4c4130ef51ed",
   "metadata": {},
   "outputs": [],
   "source": [
    "dados['Age'].isnull()"
   ]
  },
  {
   "cell_type": "markdown",
   "id": "6108ddf1-f55b-49c0-b62d-0c8a2e4e6092",
   "metadata": {},
   "source": [
    "Podemos obter a contagem de valores nulos em cada coluna em um novo dataframe"
   ]
  },
  {
   "cell_type": "code",
   "execution_count": null,
   "id": "1cb4c3da-55a7-4134-8942-8da3cd2ccf96",
   "metadata": {},
   "outputs": [],
   "source": [
    "contagem_nulos = dados.isnull().sum()\n",
    "contagem_nulos"
   ]
  },
  {
   "cell_type": "markdown",
   "id": "1310df5d-f5f5-4396-a91a-7308ab0b1c32",
   "metadata": {},
   "source": [
    "## Exclusão de Registros com dados faltantes"
   ]
  },
  {
   "cell_type": "markdown",
   "id": "7d7d1cd4-853f-4206-8e67-e1ea8344099e",
   "metadata": {},
   "source": [
    "Uma forma de lidar com valores ausentes é excluir do dataframe as linhas que possuem valores ausentes. Isso pode ser feito facilmente através da função `dropna`. Essa função retorna um dataset sem as linhas que possuem algum valor ausente\n"
   ]
  },
  {
   "cell_type": "code",
   "execution_count": null,
   "id": "0e4569db-2868-47bb-bb79-22a0ae346cb1",
   "metadata": {},
   "outputs": [],
   "source": [
    "sem_nulos = dados.dropna()"
   ]
  },
  {
   "cell_type": "code",
   "execution_count": null,
   "id": "9894dd6d-ca4c-4c8a-88d5-002cae6ee6b2",
   "metadata": {},
   "outputs": [],
   "source": [
    "sem_nulos"
   ]
  },
  {
   "cell_type": "markdown",
   "id": "f1bcf9aa-6157-4aad-ae46-bbfadcc73934",
   "metadata": {},
   "source": [
    "**EXERCÍCIO**\n",
    "\n",
    "Quantos registros foram excluídos do dataset?"
   ]
  },
  {
   "cell_type": "code",
   "execution_count": null,
   "id": "e1e0c5fa",
   "metadata": {},
   "outputs": [],
   "source": [
    "registros_pre, cols_pre = dados.shape\n",
    "registros_pos, cols_pos = sem_nulos.shape\n",
    "registros_excluidos = registros_pre - registros_pos\n",
    "registros_excluidos"
   ]
  },
  {
   "cell_type": "markdown",
   "id": "c61056e6-0a08-4497-88f5-19af3544243e",
   "metadata": {},
   "source": [
    "**EXERCÍCIO**\n",
    "\n",
    "Pode-se também excluir do dataset as colunas que contém valores faltantes. Para isso deve-se informar o parâmetro `axis=1` para a função `dropna`. Teste essa função e verifique quantas colunas foram excluídas do dataframe."
   ]
  },
  {
   "cell_type": "code",
   "execution_count": null,
   "id": "c18a5a24",
   "metadata": {},
   "outputs": [],
   "source": [
    "cols_nulas_exc = dados.dropna(axis=1)"
   ]
  },
  {
   "cell_type": "code",
   "execution_count": null,
   "id": "1f766c32",
   "metadata": {},
   "outputs": [],
   "source": [
    "registros_pos, cols_pos = cols_nulas_exc.shape\n",
    "cols_excluidas = cols_pre - cols_pos\n",
    "cols_excluidas"
   ]
  },
  {
   "cell_type": "markdown",
   "id": "ad02f581-1c86-402c-8e8f-e0af9543c204",
   "metadata": {},
   "source": [
    "## Inputação de Dados"
   ]
  },
  {
   "cell_type": "markdown",
   "id": "c846dac6-d946-40e2-846e-fa0e8e2fc4f4",
   "metadata": {},
   "source": [
    "### Substituição Dummy"
   ]
  },
  {
   "cell_type": "markdown",
   "id": "7caa46dc-e6fd-462c-86a2-ec203785dc6b",
   "metadata": {},
   "source": [
    "Outra forma de lidar com valores ausentes é preencher os valores faltantes com um valor padrão. A função `fillna(valor)` pode ser utilizada para realizar esta tarefa.\n",
    "\n",
    "*Tome cuidado*: a função `fillna` preenche todo o dataframe de uma vez\n"
   ]
  },
  {
   "cell_type": "code",
   "execution_count": null,
   "id": "a39e0f18-3cf1-4335-85e0-b2d6fde33913",
   "metadata": {},
   "outputs": [],
   "source": [
    "# Preenchendo todos os dados faltantes com 0\n",
    "preenchido = dados.fillna(0)"
   ]
  },
  {
   "cell_type": "code",
   "execution_count": null,
   "id": "df445efa-38ba-475f-acd2-3ec9d3acd158",
   "metadata": {},
   "outputs": [],
   "source": [
    "preenchido"
   ]
  },
  {
   "cell_type": "code",
   "execution_count": null,
   "id": "38416644-d835-4b3d-a8af-432812256120",
   "metadata": {},
   "outputs": [],
   "source": [
    "# Note que não teremos mais valores nulos no dataset\n",
    "contagem_nulos = preenchido.isnull().sum()\n",
    "contagem_nulos"
   ]
  },
  {
   "cell_type": "markdown",
   "id": "16dad181-a145-4955-a778-de40d0a3fbb8",
   "metadata": {},
   "source": [
    "### Substituição pela Média / Item Frequente"
   ]
  },
  {
   "cell_type": "code",
   "execution_count": null,
   "id": "bb2b86ec-01e3-474a-b68c-83f14a774cee",
   "metadata": {},
   "outputs": [],
   "source": [
    "dados_teste = {\n",
    "    \"Produto\": [\"A\", \"B\", \"C\", \"D\"],\n",
    "    \"Quantidade\": [10, None, 15, 20],\n",
    "    \"Preco\": [100, 200, None, 100]\n",
    "}\n",
    "\n",
    "df_vendas = pd.DataFrame(dados_teste)\n",
    "df_vendas"
   ]
  },
  {
   "cell_type": "code",
   "execution_count": null,
   "id": "d5c8d35e-0484-453e-bd51-422ee2277334",
   "metadata": {},
   "outputs": [],
   "source": [
    "# Definindo o valor padrão -1 para a coluna quantidade\n",
    "df_vendas.fillna({\"Quantidade\": -1}, inplace=True) ## inplace=True faz com que a operação seja realizada na própria variável\n",
    "\n",
    "# Obtendo a moda do atributo preço\n",
    "moda_preco = df_vendas[\"Preco\"].mode()[0]\n",
    "df_vendas.fillna({'Preco': moda_preco}, inplace=True)\n",
    "\n",
    "df_vendas"
   ]
  },
  {
   "cell_type": "markdown",
   "id": "0087694d-eb65-4f18-93ac-7335df12991d",
   "metadata": {},
   "source": [
    "**EXERCÍCIO**\n",
    "\n",
    "Preencha os dados ausentes do dataset Titanic da seguinte forma:\n",
    "* Atribua o valor ‘A101’ para as cabines faltantes\n",
    "* Preencha o atributo idade com o valor médio das idades dos passageiros\n"
   ]
  },
  {
   "cell_type": "markdown",
   "id": "db69ab1b-014f-4f49-bddb-cf6d5e8056c8",
   "metadata": {},
   "source": [
    "É possível também usar os valores que estão nas linhas vizinhas para completar os valores faltantes."
   ]
  },
  {
   "cell_type": "code",
   "execution_count": null,
   "id": "30a84094",
   "metadata": {},
   "outputs": [],
   "source": [
    "cabin_correta = dados.copy()"
   ]
  },
  {
   "cell_type": "code",
   "execution_count": null,
   "id": "8728a79e",
   "metadata": {},
   "outputs": [],
   "source": [
    "cabin_correta['Cabin'] = cabin_correta['Cabin'].fillna('A101')\n",
    "cabin_correta"
   ]
  },
  {
   "cell_type": "code",
   "execution_count": null,
   "id": "39d768bc",
   "metadata": {},
   "outputs": [],
   "source": [
    "idade_acertada = dados"
   ]
  },
  {
   "cell_type": "code",
   "execution_count": null,
   "id": "6a140213",
   "metadata": {},
   "outputs": [],
   "source": [
    "idade_acertada['Age'] = idade_acertada['Age'].fillna(idade_acertada.Age.mean())\n",
    "idades_acertadas = idade_acertada[['Age']].query('Age == @idade_acertada.Age.mean()')\n",
    "print('Idades acertadas estao nos index: ')\n",
    "print(idades_acertadas.index)"
   ]
  },
  {
   "cell_type": "markdown",
   "id": "8286b040-bb51-4ee4-918d-d652f88da629",
   "metadata": {},
   "source": [
    "**EXERCÍCIO**\n",
    "\n",
    "Procure na documentação da função `fillna` quais as configurações possíveis para o atributo `method`. Crie um exemplo que use esse método para preencher os valores da coluna `Cabin`. Confira o resultado para ver se ele fica conforme o esperado."
   ]
  },
  {
   "cell_type": "code",
   "execution_count": 126,
   "id": "f62d315c",
   "metadata": {},
   "outputs": [
    {
     "name": "stderr",
     "output_type": "stream",
     "text": [
      "/tmp/ipykernel_5373/3675989959.py:2: FutureWarning: DataFrame.fillna with 'method' is deprecated and will raise in a future version. Use obj.ffill() or obj.bfill() instead.\n",
      "  cabin_teste.fillna(method='pad')\n"
     ]
    },
    {
     "data": {
      "text/html": [
       "<div>\n",
       "<style scoped>\n",
       "    .dataframe tbody tr th:only-of-type {\n",
       "        vertical-align: middle;\n",
       "    }\n",
       "\n",
       "    .dataframe tbody tr th {\n",
       "        vertical-align: top;\n",
       "    }\n",
       "\n",
       "    .dataframe thead th {\n",
       "        text-align: right;\n",
       "    }\n",
       "</style>\n",
       "<table border=\"1\" class=\"dataframe\">\n",
       "  <thead>\n",
       "    <tr style=\"text-align: right;\">\n",
       "      <th></th>\n",
       "      <th>PassengerId</th>\n",
       "      <th>Survived</th>\n",
       "      <th>Pclass</th>\n",
       "      <th>Name</th>\n",
       "      <th>Sex</th>\n",
       "      <th>Age</th>\n",
       "      <th>SibSp</th>\n",
       "      <th>Parch</th>\n",
       "      <th>Ticket</th>\n",
       "      <th>Fare</th>\n",
       "      <th>Cabin</th>\n",
       "      <th>Embarked</th>\n",
       "    </tr>\n",
       "  </thead>\n",
       "  <tbody>\n",
       "    <tr>\n",
       "      <th>0</th>\n",
       "      <td>1</td>\n",
       "      <td>0</td>\n",
       "      <td>3</td>\n",
       "      <td>Braund, Mr. Owen Harris</td>\n",
       "      <td>male</td>\n",
       "      <td>22.000000</td>\n",
       "      <td>1</td>\n",
       "      <td>0</td>\n",
       "      <td>A/5 21171</td>\n",
       "      <td>7.2500</td>\n",
       "      <td>NaN</td>\n",
       "      <td>S</td>\n",
       "    </tr>\n",
       "    <tr>\n",
       "      <th>1</th>\n",
       "      <td>2</td>\n",
       "      <td>1</td>\n",
       "      <td>1</td>\n",
       "      <td>Cumings, Mrs. John Bradley (Florence Briggs Th...</td>\n",
       "      <td>female</td>\n",
       "      <td>38.000000</td>\n",
       "      <td>1</td>\n",
       "      <td>0</td>\n",
       "      <td>PC 17599</td>\n",
       "      <td>71.2833</td>\n",
       "      <td>C85</td>\n",
       "      <td>C</td>\n",
       "    </tr>\n",
       "    <tr>\n",
       "      <th>2</th>\n",
       "      <td>3</td>\n",
       "      <td>1</td>\n",
       "      <td>3</td>\n",
       "      <td>Heikkinen, Miss. Laina</td>\n",
       "      <td>female</td>\n",
       "      <td>26.000000</td>\n",
       "      <td>0</td>\n",
       "      <td>0</td>\n",
       "      <td>STON/O2. 3101282</td>\n",
       "      <td>7.9250</td>\n",
       "      <td>NaN</td>\n",
       "      <td>S</td>\n",
       "    </tr>\n",
       "    <tr>\n",
       "      <th>3</th>\n",
       "      <td>4</td>\n",
       "      <td>1</td>\n",
       "      <td>1</td>\n",
       "      <td>Futrelle, Mrs. Jacques Heath (Lily May Peel)</td>\n",
       "      <td>female</td>\n",
       "      <td>35.000000</td>\n",
       "      <td>1</td>\n",
       "      <td>0</td>\n",
       "      <td>113803</td>\n",
       "      <td>53.1000</td>\n",
       "      <td>C123</td>\n",
       "      <td>S</td>\n",
       "    </tr>\n",
       "    <tr>\n",
       "      <th>4</th>\n",
       "      <td>5</td>\n",
       "      <td>0</td>\n",
       "      <td>3</td>\n",
       "      <td>Allen, Mr. William Henry</td>\n",
       "      <td>male</td>\n",
       "      <td>35.000000</td>\n",
       "      <td>0</td>\n",
       "      <td>0</td>\n",
       "      <td>373450</td>\n",
       "      <td>8.0500</td>\n",
       "      <td>NaN</td>\n",
       "      <td>S</td>\n",
       "    </tr>\n",
       "    <tr>\n",
       "      <th>...</th>\n",
       "      <td>...</td>\n",
       "      <td>...</td>\n",
       "      <td>...</td>\n",
       "      <td>...</td>\n",
       "      <td>...</td>\n",
       "      <td>...</td>\n",
       "      <td>...</td>\n",
       "      <td>...</td>\n",
       "      <td>...</td>\n",
       "      <td>...</td>\n",
       "      <td>...</td>\n",
       "      <td>...</td>\n",
       "    </tr>\n",
       "    <tr>\n",
       "      <th>886</th>\n",
       "      <td>887</td>\n",
       "      <td>0</td>\n",
       "      <td>2</td>\n",
       "      <td>Montvila, Rev. Juozas</td>\n",
       "      <td>male</td>\n",
       "      <td>27.000000</td>\n",
       "      <td>0</td>\n",
       "      <td>0</td>\n",
       "      <td>211536</td>\n",
       "      <td>13.0000</td>\n",
       "      <td>NaN</td>\n",
       "      <td>S</td>\n",
       "    </tr>\n",
       "    <tr>\n",
       "      <th>887</th>\n",
       "      <td>888</td>\n",
       "      <td>1</td>\n",
       "      <td>1</td>\n",
       "      <td>Graham, Miss. Margaret Edith</td>\n",
       "      <td>female</td>\n",
       "      <td>19.000000</td>\n",
       "      <td>0</td>\n",
       "      <td>0</td>\n",
       "      <td>112053</td>\n",
       "      <td>30.0000</td>\n",
       "      <td>B42</td>\n",
       "      <td>S</td>\n",
       "    </tr>\n",
       "    <tr>\n",
       "      <th>888</th>\n",
       "      <td>889</td>\n",
       "      <td>0</td>\n",
       "      <td>3</td>\n",
       "      <td>Johnston, Miss. Catherine Helen \"Carrie\"</td>\n",
       "      <td>female</td>\n",
       "      <td>29.699118</td>\n",
       "      <td>1</td>\n",
       "      <td>2</td>\n",
       "      <td>W./C. 6607</td>\n",
       "      <td>23.4500</td>\n",
       "      <td>NaN</td>\n",
       "      <td>S</td>\n",
       "    </tr>\n",
       "    <tr>\n",
       "      <th>889</th>\n",
       "      <td>890</td>\n",
       "      <td>1</td>\n",
       "      <td>1</td>\n",
       "      <td>Behr, Mr. Karl Howell</td>\n",
       "      <td>male</td>\n",
       "      <td>26.000000</td>\n",
       "      <td>0</td>\n",
       "      <td>0</td>\n",
       "      <td>111369</td>\n",
       "      <td>30.0000</td>\n",
       "      <td>C148</td>\n",
       "      <td>C</td>\n",
       "    </tr>\n",
       "    <tr>\n",
       "      <th>890</th>\n",
       "      <td>891</td>\n",
       "      <td>0</td>\n",
       "      <td>3</td>\n",
       "      <td>Dooley, Mr. Patrick</td>\n",
       "      <td>male</td>\n",
       "      <td>32.000000</td>\n",
       "      <td>0</td>\n",
       "      <td>0</td>\n",
       "      <td>370376</td>\n",
       "      <td>7.7500</td>\n",
       "      <td>NaN</td>\n",
       "      <td>Q</td>\n",
       "    </tr>\n",
       "  </tbody>\n",
       "</table>\n",
       "<p>891 rows × 12 columns</p>\n",
       "</div>"
      ],
      "text/plain": [
       "     PassengerId  Survived  Pclass  \\\n",
       "0              1         0       3   \n",
       "1              2         1       1   \n",
       "2              3         1       3   \n",
       "3              4         1       1   \n",
       "4              5         0       3   \n",
       "..           ...       ...     ...   \n",
       "886          887         0       2   \n",
       "887          888         1       1   \n",
       "888          889         0       3   \n",
       "889          890         1       1   \n",
       "890          891         0       3   \n",
       "\n",
       "                                                  Name     Sex        Age  \\\n",
       "0                              Braund, Mr. Owen Harris    male  22.000000   \n",
       "1    Cumings, Mrs. John Bradley (Florence Briggs Th...  female  38.000000   \n",
       "2                               Heikkinen, Miss. Laina  female  26.000000   \n",
       "3         Futrelle, Mrs. Jacques Heath (Lily May Peel)  female  35.000000   \n",
       "4                             Allen, Mr. William Henry    male  35.000000   \n",
       "..                                                 ...     ...        ...   \n",
       "886                              Montvila, Rev. Juozas    male  27.000000   \n",
       "887                       Graham, Miss. Margaret Edith  female  19.000000   \n",
       "888           Johnston, Miss. Catherine Helen \"Carrie\"  female  29.699118   \n",
       "889                              Behr, Mr. Karl Howell    male  26.000000   \n",
       "890                                Dooley, Mr. Patrick    male  32.000000   \n",
       "\n",
       "     SibSp  Parch            Ticket     Fare Cabin Embarked  \n",
       "0        1      0         A/5 21171   7.2500   NaN        S  \n",
       "1        1      0          PC 17599  71.2833   C85        C  \n",
       "2        0      0  STON/O2. 3101282   7.9250   NaN        S  \n",
       "3        1      0            113803  53.1000  C123        S  \n",
       "4        0      0            373450   8.0500   NaN        S  \n",
       "..     ...    ...               ...      ...   ...      ...  \n",
       "886      0      0            211536  13.0000   NaN        S  \n",
       "887      0      0            112053  30.0000   B42        S  \n",
       "888      1      2        W./C. 6607  23.4500   NaN        S  \n",
       "889      0      0            111369  30.0000  C148        C  \n",
       "890      0      0            370376   7.7500   NaN        Q  \n",
       "\n",
       "[891 rows x 12 columns]"
      ]
     },
     "execution_count": 126,
     "metadata": {},
     "output_type": "execute_result"
    }
   ],
   "source": [
    "cabin_teste = dados.copy()\n",
    "cabin_teste.fillna(method='pad')\n",
    "cabin_teste"
   ]
  },
  {
   "cell_type": "code",
   "execution_count": null,
   "id": "ba9f3fe8",
   "metadata": {},
   "outputs": [],
   "source": []
  },
  {
   "cell_type": "markdown",
   "id": "cca6eefe-bc4c-4669-b39a-c9811c85cd19",
   "metadata": {},
   "source": [
    "### Substituição por Interpolação"
   ]
  },
  {
   "cell_type": "markdown",
   "id": "187a16e4-4fcb-44ce-a62d-94e142c31b43",
   "metadata": {},
   "source": [
    "Nesse tipo de inputação, os dados são imputados segundo um modelo de interpolação matemática."
   ]
  },
  {
   "cell_type": "code",
   "execution_count": null,
   "id": "33c1cd8d-4d26-4be3-9282-fe6cf157d26b",
   "metadata": {},
   "outputs": [],
   "source": [
    "res = dados[\"Age\"].interpolate(method=\"linear\")\n",
    "\n",
    "for antigo, novo in zip(dados[\"Age\"], res):\n",
    "    print(antigo, novo)"
   ]
  },
  {
   "cell_type": "markdown",
   "id": "b4131655-f53c-486b-a4f4-a12cc1fd401d",
   "metadata": {},
   "source": [
    "**Exercício**\n",
    "\n",
    "Faz sentido utilizar interpolação para imputar valores para o atributo idade do dataset de testes? Em que casos isso faz mais sentido?"
   ]
  },
  {
   "cell_type": "markdown",
   "id": "af7b821b",
   "metadata": {},
   "source": [
    "# Resposta:\n",
    "- Acreditamos que nao seja muito adequado utilizar a interpolacao para atribuir idades faltantes, pois nao tem nenhuma logica em utilizar esse principio ao inferir idades"
   ]
  }
 ],
 "metadata": {
  "kernelspec": {
   "display_name": "Python 3 (ipykernel)",
   "language": "python",
   "name": "python3"
  },
  "language_info": {
   "codemirror_mode": {
    "name": "ipython",
    "version": 3
   },
   "file_extension": ".py",
   "mimetype": "text/x-python",
   "name": "python",
   "nbconvert_exporter": "python",
   "pygments_lexer": "ipython3",
   "version": "3.10.13"
  }
 },
 "nbformat": 4,
 "nbformat_minor": 5
}
